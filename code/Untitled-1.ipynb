{
 "cells": [
  {
   "cell_type": "code",
   "execution_count": 8,
   "metadata": {},
   "outputs": [],
   "source": [
    "import ttkbootstrap as ttk\n",
    "from ttkbootstrap.constants import *\n",
    "\n",
    "root = ttk.Window()\n",
    "\n",
    "b1 = ttk.Button(root, text=\"Button 0\", bootstyle=SUCCESS)\n",
    "b1.pack(side=LEFT, padx=5, pady=10)\n",
    "#style = ttk.Style(\"darkly\")\n",
    "\n",
    "\n",
    "b2 = ttk.Button(root, text=\"Button 2\", bootstyle=(INFO, OUTLINE))\n",
    "b2.pack(side=LEFT, padx=5, pady=10)\n",
    "\n",
    "root.mainloop()\n"
   ]
  },
  {
   "cell_type": "code",
   "execution_count": 5,
   "metadata": {},
   "outputs": [],
   "source": [
    "import ttkbootstrap as ttk\n",
    "from ttkbootstrap.constants import *\n",
    "\n",
    "root = ttk.Window()\n",
    "\n",
    "b1 = ttk.Button(root, text='primary', bootstyle=PRIMARY)\n",
    "b1.pack(side=LEFT, padx=5, pady=5)\n",
    "\n",
    "b2 = ttk.Button(root, text='secondary', bootstyle=SECONDARY)\n",
    "b2.pack(side=LEFT, padx=5, pady=5)\n",
    "\n",
    "b3 = ttk.Button(root, text='success', bootstyle=SUCCESS)\n",
    "b3.pack(side=LEFT, padx=5, pady=5)\n",
    "\n",
    "b4 = ttk.Button(root, text='info', bootstyle=INFO)\n",
    "b4.pack(side=LEFT, padx=5, pady=5)\n",
    "\n",
    "b5 = ttk.Button(root, text='warning', bootstyle=WARNING)\n",
    "b5.pack(side=LEFT, padx=5, pady=5)\n",
    "\n",
    "b6 = ttk.Button(root, text='danger', bootstyle=DANGER)\n",
    "b6.pack(side=LEFT, padx=5, pady=5)\n",
    "\n",
    "b7 = ttk.Button(root, text='light', bootstyle=LIGHT)\n",
    "b7.pack(side=LEFT, padx=5, pady=5)\n",
    "\n",
    "b8 = ttk.Button(root, text='dark', bootstyle=DARK)\n",
    "b8.pack(side=LEFT, padx=5, pady=5)\n",
    "\n",
    "root.mainloop()\n"
   ]
  },
  {
   "cell_type": "code",
   "execution_count": 24,
   "metadata": {},
   "outputs": [],
   "source": [
    "import ttkbootstrap as ttk\n",
    "from ttkbootstrap.constants import *\n",
    "\n",
    "root = ttk.Window(themename='superhero')\n",
    "\n",
    "root.title('Bank')\n",
    "root.iconbitmap('piggy-bank.ico')\n",
    "root.geometry('500x350')\n",
    "\n",
    "my_label = ttk.Label(text='Hello World!',font=(\"ACTIVE\",50),bootstyle=\"danger\")\n",
    "my_label.pack(pady=50)\n",
    "\n",
    "root.mainloop()"
   ]
  },
  {
   "cell_type": "code",
   "execution_count": 40,
   "metadata": {},
   "outputs": [],
   "source": []
  },
  {
   "cell_type": "code",
   "execution_count": 37,
   "metadata": {},
   "outputs": [
    {
     "name": "stdout",
     "output_type": "stream",
     "text": [
      "Email sent!\n"
     ]
    }
   ],
   "source": [
    "import smtplib\n",
    "\n",
    "gmail_user = 'bankdatabasetn@gmail.com'\n",
    "gmail_app_password = 'inlv ucjt ejas viqc'\n",
    "\n",
    "sent_from = gmail_user\n",
    "sent_to = ['engineer.at20@gmail.com']\n",
    "sent_subject = \"Hey Friends!\"\n",
    "sent_body = (\"Hey, what's up? friend!\\n\\n\"\n",
    "             \"I hope you have been well!\\n\"\n",
    "             \"\\n\"\n",
    "             \"Cheers,\\n\"\n",
    "             \"Jay\\n\")\n",
    "\n",
    "email_text = \"\"\"\\\n",
    "From: %s\n",
    "To: %s\n",
    "Subject: %s\n",
    "\n",
    "%s\n",
    "\"\"\" % (sent_from, \", \".join(sent_to), sent_subject, sent_body)\n",
    "\n",
    "print(sent_from, \", \".join(sent_to), sent_subject, sent_body)\n",
    "\n",
    "try:\n",
    "    server = smtplib.SMTP_SSL('smtp.gmail.com', 465)\n",
    "    server.ehlo()\n",
    "    server.login(gmail_user, gmail_app_password)\n",
    "    server.sendmail(sent_from, sent_to, email_text)\n",
    "    server.close()\n",
    "\n",
    "    print('Email sent!')\n",
    "except Exception as exception:\n",
    "    print(\"Error: %s!\\n\\n\" % exception)"
   ]
  }
 ],
 "metadata": {
  "kernelspec": {
   "display_name": "Python 3",
   "language": "python",
   "name": "python3"
  },
  "language_info": {
   "codemirror_mode": {
    "name": "ipython",
    "version": 3
   },
   "file_extension": ".py",
   "mimetype": "text/x-python",
   "name": "python",
   "nbconvert_exporter": "python",
   "pygments_lexer": "ipython3",
   "version": "3.9.7"
  }
 },
 "nbformat": 4,
 "nbformat_minor": 2
}
